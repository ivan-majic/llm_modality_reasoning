{
 "cells": [
  {
   "cell_type": "code",
   "execution_count": 1,
   "metadata": {},
   "outputs": [],
   "source": [
    "import os\n",
    "from time import sleep\n",
    "import json\n",
    "import argparse\n",
    "from langchain_openai import ChatOpenAI\n",
    "from langchain_core.prompts import ChatPromptTemplate\n",
    "from langchain.chains import LLMChain"
   ]
  },
  {
   "cell_type": "code",
   "execution_count": 2,
   "metadata": {},
   "outputs": [],
   "source": [
    "parser = argparse.ArgumentParser(description=\"test LLM planning abilities\")\n",
    "parser.add_argument(\n",
    "        \"--prompt_type\",\n",
    "        type=str,\n",
    "        default='cos',\n",
    "        help=\"type of prompt\",\n",
    "    )\n",
    "\n",
    "parser.add_argument(\n",
    "        \"--setting\",\n",
    "        type=str,\n",
    "        default='shuffle_both', # i: changed to shuffle_both\n",
    "        help=\"setting\",\n",
    "    )\n",
    "\n",
    "parser.add_argument(\n",
    "        \"--num\",\n",
    "        type=str,\n",
    "        default='2',\n",
    "        help=\"num\",\n",
    "    )\n",
    "parser.add_argument(\n",
    "        \"--model_name\",\n",
    "        type=str,\n",
    "        default='chatgpt',\n",
    "        help=\"num\",\n",
    "    )\n",
    "\n",
    "parser.add_argument(\n",
    "        \"--key\",\n",
    "        type=str,\n",
    "        default='xxx',\n",
    "        help=\"num\",\n",
    "    )\n",
    "\n",
    "args_string = '--prompt_type=cos --setting=shuffle_both --num=2 --model_name=chatgpt --key='\n",
    "args_list = args_string.split(' ')\n",
    "args = parser.parse_args(args_list)"
   ]
  },
  {
   "cell_type": "code",
   "execution_count": 3,
   "metadata": {},
   "outputs": [
    {
     "ename": "FileNotFoundError",
     "evalue": "[Errno 2] No such file or directory: '../demo/cos_demo_shuffle_both_2.txt'",
     "output_type": "error",
     "traceback": [
      "\u001b[0;31m---------------------------------------------------------------------------\u001b[0m",
      "\u001b[0;31mFileNotFoundError\u001b[0m                         Traceback (most recent call last)",
      "Cell \u001b[0;32mIn[3], line 5\u001b[0m\n\u001b[1;32m      3\u001b[0m \u001b[38;5;28;01mif\u001b[39;00m args\u001b[38;5;241m.\u001b[39msetting \u001b[38;5;241m==\u001b[39m \u001b[38;5;124m'\u001b[39m\u001b[38;5;124mnoshuffle\u001b[39m\u001b[38;5;124m'\u001b[39m:\n\u001b[1;32m      4\u001b[0m    setting \u001b[38;5;241m=\u001b[39m \u001b[38;5;124m'\u001b[39m\u001b[38;5;124mshuffle_descpt\u001b[39m\u001b[38;5;124m'\u001b[39m\n\u001b[0;32m----> 5\u001b[0m prompt \u001b[38;5;241m=\u001b[39m \u001b[38;5;28;43mopen\u001b[39;49m\u001b[43m(\u001b[49m\u001b[38;5;124;43m'\u001b[39;49m\u001b[38;5;124;43m../demo/\u001b[39;49m\u001b[38;5;132;43;01m{}\u001b[39;49;00m\u001b[38;5;124;43m_demo_\u001b[39;49m\u001b[38;5;132;43;01m{}\u001b[39;49;00m\u001b[38;5;124;43m_2.txt\u001b[39;49m\u001b[38;5;124;43m'\u001b[39;49m\u001b[38;5;241;43m.\u001b[39;49m\u001b[43mformat\u001b[49m\u001b[43m(\u001b[49m\u001b[43mprompt_type\u001b[49m\u001b[43m,\u001b[49m\u001b[43margs\u001b[49m\u001b[38;5;241;43m.\u001b[39;49m\u001b[43msetting\u001b[49m\u001b[43m)\u001b[49m\u001b[43m)\u001b[49m\u001b[38;5;241m.\u001b[39mread()\n\u001b[1;32m      6\u001b[0m \u001b[38;5;66;03m#cot_prompt_1d = open('demo/davinci_cos_1d.txt').read()\u001b[39;00m\n\u001b[1;32m      7\u001b[0m \u001b[38;5;66;03m#base_prompt = open('demo/baseline_demo.txt').read()\u001b[39;00m\n\u001b[1;32m      8\u001b[0m \u001b[38;5;66;03m# Create instances for OpenAI and ChatOpenAI models\u001b[39;00m\n\u001b[1;32m      9\u001b[0m \u001b[38;5;28;01mif\u001b[39;00m args\u001b[38;5;241m.\u001b[39mmodel_name \u001b[38;5;241m==\u001b[39m \u001b[38;5;124m'\u001b[39m\u001b[38;5;124mtext-davinci-003\u001b[39m\u001b[38;5;124m'\u001b[39m:\n",
      "File \u001b[0;32m~/pcloud/01_Projects/2024_SIGSPATIAL/llm_modality_reasoning/venv_sigspatial/lib/python3.11/site-packages/IPython/core/interactiveshell.py:324\u001b[0m, in \u001b[0;36m_modified_open\u001b[0;34m(file, *args, **kwargs)\u001b[0m\n\u001b[1;32m    317\u001b[0m \u001b[38;5;28;01mif\u001b[39;00m file \u001b[38;5;129;01min\u001b[39;00m {\u001b[38;5;241m0\u001b[39m, \u001b[38;5;241m1\u001b[39m, \u001b[38;5;241m2\u001b[39m}:\n\u001b[1;32m    318\u001b[0m     \u001b[38;5;28;01mraise\u001b[39;00m \u001b[38;5;167;01mValueError\u001b[39;00m(\n\u001b[1;32m    319\u001b[0m         \u001b[38;5;124mf\u001b[39m\u001b[38;5;124m\"\u001b[39m\u001b[38;5;124mIPython won\u001b[39m\u001b[38;5;124m'\u001b[39m\u001b[38;5;124mt let you open fd=\u001b[39m\u001b[38;5;132;01m{\u001b[39;00mfile\u001b[38;5;132;01m}\u001b[39;00m\u001b[38;5;124m by default \u001b[39m\u001b[38;5;124m\"\u001b[39m\n\u001b[1;32m    320\u001b[0m         \u001b[38;5;124m\"\u001b[39m\u001b[38;5;124mas it is likely to crash IPython. If you know what you are doing, \u001b[39m\u001b[38;5;124m\"\u001b[39m\n\u001b[1;32m    321\u001b[0m         \u001b[38;5;124m\"\u001b[39m\u001b[38;5;124myou can use builtins\u001b[39m\u001b[38;5;124m'\u001b[39m\u001b[38;5;124m open.\u001b[39m\u001b[38;5;124m\"\u001b[39m\n\u001b[1;32m    322\u001b[0m     )\n\u001b[0;32m--> 324\u001b[0m \u001b[38;5;28;01mreturn\u001b[39;00m \u001b[43mio_open\u001b[49m\u001b[43m(\u001b[49m\u001b[43mfile\u001b[49m\u001b[43m,\u001b[49m\u001b[43m \u001b[49m\u001b[38;5;241;43m*\u001b[39;49m\u001b[43margs\u001b[49m\u001b[43m,\u001b[49m\u001b[43m \u001b[49m\u001b[38;5;241;43m*\u001b[39;49m\u001b[38;5;241;43m*\u001b[39;49m\u001b[43mkwargs\u001b[49m\u001b[43m)\u001b[49m\n",
      "\u001b[0;31mFileNotFoundError\u001b[0m: [Errno 2] No such file or directory: '../demo/cos_demo_shuffle_both_2.txt'"
     ]
    }
   ],
   "source": [
    "prompt_type = args.prompt_type\n",
    "setting = args.setting\n",
    "if args.setting == 'noshuffle':\n",
    "   setting = 'shuffle_descpt'\n",
    "prompt = open('../demo/{}_demo_{}_2.txt'.format(prompt_type,args.setting)).read()\n",
    "#cot_prompt_1d = open('demo/davinci_cos_1d.txt').read()\n",
    "#base_prompt = open('demo/baseline_demo.txt').read()\n",
    "# Create instances for OpenAI and ChatOpenAI models\n",
    "if args.model_name == 'text-davinci-003':\n",
    "    openai_client = OpenAI(api_key=args.key, model_name=args.model_name)\n",
    "else:\n",
    "    # openai_client = ChatOpenAI(api_key=args.key, model_name=\"gpt-3.5-turbo\")\n",
    "    # model_name='gpt-3.5-turbo'\n",
    "    # model_name='gpt-4o-mini'\n",
    "    model_name='gpt-4o-2024-08-06'\n",
    "    openai_client = ChatOpenAI(api_key=args.key, model_name=model_name)"
   ]
  },
  {
   "cell_type": "code",
   "execution_count": 4,
   "metadata": {},
   "outputs": [
    {
     "ename": "FileNotFoundError",
     "evalue": "[Errno 2] No such file or directory: 'data/brick_1D_50/data.json'",
     "output_type": "error",
     "traceback": [
      "\u001b[0;31m---------------------------------------------------------------------------\u001b[0m",
      "\u001b[0;31mFileNotFoundError\u001b[0m                         Traceback (most recent call last)",
      "Cell \u001b[0;32mIn[4], line 3\u001b[0m\n\u001b[1;32m      1\u001b[0m \u001b[38;5;66;03m# Load Data\u001b[39;00m\n\u001b[1;32m      2\u001b[0m examples_data_dir \u001b[38;5;241m=\u001b[39m \u001b[38;5;124m'\u001b[39m\u001b[38;5;124mdata/brick_1D_50\u001b[39m\u001b[38;5;124m'\u001b[39m\n\u001b[0;32m----> 3\u001b[0m \u001b[38;5;28;01mwith\u001b[39;00m \u001b[38;5;28;43mopen\u001b[39;49m\u001b[43m(\u001b[49m\u001b[43mos\u001b[49m\u001b[38;5;241;43m.\u001b[39;49m\u001b[43mpath\u001b[49m\u001b[38;5;241;43m.\u001b[39;49m\u001b[43mjoin\u001b[49m\u001b[43m(\u001b[49m\u001b[43mexamples_data_dir\u001b[49m\u001b[43m,\u001b[49m\u001b[43m \u001b[49m\u001b[38;5;124;43m'\u001b[39;49m\u001b[38;5;124;43mdata.json\u001b[39;49m\u001b[38;5;124;43m'\u001b[39;49m\u001b[43m)\u001b[49m\u001b[43m)\u001b[49m \u001b[38;5;28;01mas\u001b[39;00m f:\n\u001b[1;32m      4\u001b[0m     data \u001b[38;5;241m=\u001b[39m json\u001b[38;5;241m.\u001b[39mload(f)\n\u001b[1;32m      6\u001b[0m zeroshot_prompt \u001b[38;5;241m=\u001b[39m \u001b[38;5;124m'\u001b[39m\u001b[38;5;124mLets think step by step, and provide the answer in the format of a sequence of bricks by a comma in the last sentence.\u001b[39m\u001b[38;5;124m'\u001b[39m\n",
      "File \u001b[0;32m~/pcloud/01_Projects/2024_SIGSPATIAL/llm_modality_reasoning/venv_sigspatial/lib/python3.11/site-packages/IPython/core/interactiveshell.py:324\u001b[0m, in \u001b[0;36m_modified_open\u001b[0;34m(file, *args, **kwargs)\u001b[0m\n\u001b[1;32m    317\u001b[0m \u001b[38;5;28;01mif\u001b[39;00m file \u001b[38;5;129;01min\u001b[39;00m {\u001b[38;5;241m0\u001b[39m, \u001b[38;5;241m1\u001b[39m, \u001b[38;5;241m2\u001b[39m}:\n\u001b[1;32m    318\u001b[0m     \u001b[38;5;28;01mraise\u001b[39;00m \u001b[38;5;167;01mValueError\u001b[39;00m(\n\u001b[1;32m    319\u001b[0m         \u001b[38;5;124mf\u001b[39m\u001b[38;5;124m\"\u001b[39m\u001b[38;5;124mIPython won\u001b[39m\u001b[38;5;124m'\u001b[39m\u001b[38;5;124mt let you open fd=\u001b[39m\u001b[38;5;132;01m{\u001b[39;00mfile\u001b[38;5;132;01m}\u001b[39;00m\u001b[38;5;124m by default \u001b[39m\u001b[38;5;124m\"\u001b[39m\n\u001b[1;32m    320\u001b[0m         \u001b[38;5;124m\"\u001b[39m\u001b[38;5;124mas it is likely to crash IPython. If you know what you are doing, \u001b[39m\u001b[38;5;124m\"\u001b[39m\n\u001b[1;32m    321\u001b[0m         \u001b[38;5;124m\"\u001b[39m\u001b[38;5;124myou can use builtins\u001b[39m\u001b[38;5;124m'\u001b[39m\u001b[38;5;124m open.\u001b[39m\u001b[38;5;124m\"\u001b[39m\n\u001b[1;32m    322\u001b[0m     )\n\u001b[0;32m--> 324\u001b[0m \u001b[38;5;28;01mreturn\u001b[39;00m \u001b[43mio_open\u001b[49m\u001b[43m(\u001b[49m\u001b[43mfile\u001b[49m\u001b[43m,\u001b[49m\u001b[43m \u001b[49m\u001b[38;5;241;43m*\u001b[39;49m\u001b[43margs\u001b[49m\u001b[43m,\u001b[49m\u001b[43m \u001b[49m\u001b[38;5;241;43m*\u001b[39;49m\u001b[38;5;241;43m*\u001b[39;49m\u001b[43mkwargs\u001b[49m\u001b[43m)\u001b[49m\n",
      "\u001b[0;31mFileNotFoundError\u001b[0m: [Errno 2] No such file or directory: 'data/brick_1D_50/data.json'"
     ]
    }
   ],
   "source": [
    "# Load Data\n",
    "examples_data_dir = '../data/brick_1D_50'\n",
    "with open(os.path.join(examples_data_dir, 'data.json')) as f:\n",
    "    data = json.load(f)\n",
    "\n",
    "zeroshot_prompt = 'Lets think step by step, and provide the answer in the format of a sequence of bricks by a comma in the last sentence.'\n",
    "constraint_prompt = 'You only need to return the sequence of removed bricks in order from top to bottom, without any explanation. So the answer is:'\n",
    "cos_1d_desc = (\"Using the symbolic method to convert text to symbols, B//A means A is on top of B. \"\n",
    "               \"Then combine the relation together, then solve this question recursively and keep the last sentence \"\n",
    "               \"as the format of 'so we get the result as (the sequence of names of bricks in order):\\n\\n\")\n",
    "\n",
    "res_list = []\n",
    "i = 0\n",
    "step = 0\n",
    "\n",
    "for item in data:\n",
    "    step += 1\n",
    "    print(step)\n",
    "\n",
    "    if args.model_name == 'text-davinci-003':\n",
    "        response = openai_client(prompt=zeroshot_prompt + '\\n\\n' + 'Question:' + '\\n' + item['data'] + 'Answer:\\n',\n",
    "                                    temperature=0,\n",
    "                                    max_tokens=2048,\n",
    "                                    top_p=1,\n",
    "                                    frequency_penalty=0,\n",
    "                                    presence_penalty=0)\n",
    "        res = response.content\n",
    "    else:\n",
    "        response = openai_client(messages=[\n",
    "            {\"role\": \"system\", \"content\": \"You are a helpful assistant.\"},\n",
    "            {\"role\": \"user\", \"content\": zeroshot_prompt + '\\n\\n' + 'Question:' + '\\n' + item['data'] + '\\nAnswer:\\n'}\n",
    "        ],\n",
    "        max_tokens=2048,\n",
    "        temperature=0)\n",
    "        res = response.content\n",
    "\n",
    "    dict_res = {'pred': res, 'label': item['label']}\n",
    "    res_list.append(dict_res)"
   ]
  },
  {
   "cell_type": "code",
   "execution_count": 32,
   "metadata": {},
   "outputs": [
    {
     "name": "stdout",
     "output_type": "stream",
     "text": [
      "Results saved to data/brick_1D_50/results_gpt-4o-2024-08-06.json\n"
     ]
    }
   ],
   "source": [
    "output_path = os.path.join(examples_data_dir, f'results_{model_name}.json')\n",
    "os.makedirs(os.path.dirname(output_path), exist_ok=True)\n",
    "\n",
    "with open(output_path, 'w') as outfile:\n",
    "    json.dump(res_list, outfile)\n",
    "\n",
    "print(f'Results saved to {output_path}')"
   ]
  }
 ],
 "metadata": {
  "kernelspec": {
   "display_name": "venv_sigspatial",
   "language": "python",
   "name": "python3"
  },
  "language_info": {
   "codemirror_mode": {
    "name": "ipython",
    "version": 3
   },
   "file_extension": ".py",
   "mimetype": "text/x-python",
   "name": "python",
   "nbconvert_exporter": "python",
   "pygments_lexer": "ipython3",
   "version": "3.11.5"
  }
 },
 "nbformat": 4,
 "nbformat_minor": 2
}
