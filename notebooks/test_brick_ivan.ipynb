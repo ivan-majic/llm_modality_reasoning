{
 "cells": [
  {
   "cell_type": "code",
   "execution_count": 5,
   "metadata": {
    "ExecuteTime": {
     "end_time": "2024-08-29T18:45:07.411514308Z",
     "start_time": "2024-08-29T18:45:07.053059652Z"
    }
   },
   "outputs": [],
   "source": [
    "import os\n",
    "from time import sleep\n",
    "import json\n",
    "import argparse\n",
    "from langchain_openai import ChatOpenAI\n",
    "from langchain_core.prompts import ChatPromptTemplate\n",
    "from langchain.chains import LLMChain\n",
    "from langchain_google_genai import ChatGoogleGenerativeAI\n",
    "import base64"
   ]
  },
  {
   "cell_type": "code",
   "execution_count": 55,
   "metadata": {
    "ExecuteTime": {
     "end_time": "2024-08-29T18:45:08.153862136Z",
     "start_time": "2024-08-29T18:45:08.145688526Z"
    }
   },
   "outputs": [],
   "source": [
    "parser = argparse.ArgumentParser(description=\"test LLM planning abilities\")\n",
    "parser.add_argument(\n",
    "        \"--dim\",\n",
    "        type=int,\n",
    "        default=1,\n",
    "        help=\"dimension of the problem 1 or 2 (for 1D or 2D)\",\n",
    ")\n",
    "parser.add_argument(\n",
    "        \"--prompt_type\",\n",
    "        type=str,\n",
    "        default='text',\n",
    "        help=\"type of prompt: text, image\",\n",
    "    )\n",
    "parser.add_argument(\n",
    "        \"--color\",\n",
    "        type=int,\n",
    "        default=0,\n",
    "        help=\"Use color images (1) or not (0)\",\n",
    "    )\n",
    "parser.add_argument(\n",
    "        \"--gap\",\n",
    "        type=int,\n",
    "        default=0,\n",
    "        help=\"Use images with gap (1) or not (0)\",\n",
    "    )\n",
    "parser.add_argument(\n",
    "        \"--model_name\",\n",
    "        type=str,\n",
    "        default='all',\n",
    "        help=\"num\",\n",
    "    )\n",
    "parser.add_argument(\n",
    "        \"--openai_key\",\n",
    "        type=str,\n",
    "        default='',\n",
    "        help=\"num\",\n",
    "    )\n",
    "parser.add_argument(\n",
    "        \"--gemini_key\",\n",
    "        type=str,\n",
    "        default='',\n",
    "        help=\"num\",\n",
    "    )\n",
    "\n",
    "args_string = '--dim=2 --prompt_type=both --color=0 --gap=1'\n",
    "args_list = args_string.split(' ')\n",
    "args = parser.parse_args(args_list)"
   ]
  },
  {
   "cell_type": "code",
   "execution_count": 56,
   "metadata": {
    "ExecuteTime": {
     "end_time": "2024-08-29T18:45:14.226677820Z",
     "start_time": "2024-08-29T18:45:14.168546229Z"
    }
   },
   "outputs": [
    {
     "name": "stdout",
     "output_type": "stream",
     "text": [
      "gpt model\n"
     ]
    }
   ],
   "source": [
    "if args.model_name=='all':\n",
    "    model_name = [\n",
    "        'gpt-3.5-turbo',\n",
    "        'gpt-4o-mini',\n",
    "        'gpt-4o-2024-08-06'\n",
    "    ]\n",
    "else:\n",
    "    model_name = args.model_name\n",
    "# model_name='gpt-3.5-turbo'\n",
    "# model_name='gpt-4o-mini'\n",
    "model_name='gpt-4o-2024-08-06'\n",
    "# model_name='gemini-1.5-pro'\n",
    "\n",
    "if not args.openai_key:\n",
    "    apikey_filepath = '../.openai_key.txt'\n",
    "    with open(apikey_filepath, 'r') as f:\n",
    "        openai_key = f.read()\n",
    "else:\n",
    "    openai_key = args.key\n",
    "\n",
    "if not args.gemini_key:\n",
    "    gemini_key_filepath = '../.gemini_api_key.txt'\n",
    "    with open(gemini_key_filepath, 'r') as f:\n",
    "        gemini_key = f.read()\n",
    "else:\n",
    "    gemini_key = args.gemini_key\n",
    "\n",
    "if 'gpt' in model_name:\n",
    "    print('gpt model')\n",
    "    client = ChatOpenAI(api_key=openai_key, model_name=model_name)\n",
    "elif 'gemini' in model_name:\n",
    "    print('gemini model')\n",
    "    client = ChatGoogleGenerativeAI(google_api_key=gemini_key, model=model_name)"
   ]
  },
  {
   "cell_type": "code",
   "execution_count": 57,
   "metadata": {
    "ExecuteTime": {
     "end_time": "2024-08-29T18:45:21.522969788Z",
     "start_time": "2024-08-29T18:45:21.516510305Z"
    }
   },
   "outputs": [],
   "source": [
    "# Load Data\n",
    "if args.dim == 1:\n",
    "    examples_data_dir = '../data/brick_1D_50'\n",
    "elif args.dim == 2:\n",
    "    examples_data_dir = '../data/brick_2D_50'\n",
    "\n",
    "with open(os.path.join(examples_data_dir, 'data.json')) as f:\n",
    "    data = json.load(f)\n",
    "\n",
    "zeroshot_prompt = 'Lets think step by step, and provide the answer in the format of a sequence of bricks by a comma in the last sentence.'\n",
    "zeroshot_prompt = 'Lets think step by step, and provide the answer in the format of a sequence of bricks by a comma in the last sentence.'\n"
   ]
  },
  {
   "cell_type": "code",
   "execution_count": 58,
   "metadata": {},
   "outputs": [],
   "source": [
    "if args.prompt_type.lower() in ['text', 'txt']:\n",
    "    res_list = []\n",
    "\n",
    "    for i, item in enumerate(data):\n",
    "        print('step: ', i+1)\n",
    "        response = client(messages=[\n",
    "            {\"role\": \"system\", \"content\": \"You are a helpful assistant.\"},\n",
    "            {\"role\": \"user\", \"content\": zeroshot_prompt + '\\n\\n' + 'Question:' + '\\n' + item['data'] + '\\nAnswer:\\n'}\n",
    "        ],\n",
    "        max_tokens=2048,\n",
    "        temperature=0)\n",
    "        res = response.content\n",
    "\n",
    "        dict_res = {'pred': res, 'label': item['label']}\n",
    "        res_list.append(dict_res)\n"
   ]
  },
  {
   "cell_type": "code",
   "execution_count": 59,
   "metadata": {},
   "outputs": [
    {
     "data": {
      "text/plain": [
       "'R'"
      ]
     },
     "execution_count": 59,
     "metadata": {},
     "output_type": "execute_result"
    }
   ],
   "source": [
    "data[0]['target']"
   ]
  },
  {
   "cell_type": "code",
   "execution_count": 60,
   "metadata": {
    "ExecuteTime": {
     "end_time": "2024-08-29T18:47:26.736972868Z",
     "start_time": "2024-08-29T18:47:26.075222388Z"
    }
   },
   "outputs": [],
   "source": [
    "if args.prompt_type.lower() in ['image','img']:\n",
    "\n",
    "    def encode_image(image_path):\n",
    "        with open(image_path, \"rb\") as image_file:\n",
    "            return base64.b64encode(image_file.read()).decode('utf-8')\n",
    "    \n",
    "\n",
    "    image_subdir = 'images'\n",
    "    if args.color:\n",
    "        color='color'\n",
    "    else:\n",
    "        color='bw'\n",
    "\n",
    "    if args.gap:\n",
    "        gap='_gap'\n",
    "    else:\n",
    "        gap=''\n",
    "\n",
    "    img_prompt = 'The image shows a set of bricks that can be placed on top of each other. Now we have to get a specific brick. The bricks must now be grabbed from top to bottom, and if the lower brick is to be grabbed, the upper brick must be removed first. How to get brick {t}?'\n",
    "    res_list = []\n",
    "    i = 0\n",
    "\n",
    "    for i, item in enumerate(data):\n",
    "        print('step: ', i+1)\n",
    "        image_path = os.path.join(examples_data_dir, image_subdir, f'img_{i}_{color}{gap}.png')\n",
    "        image_base64 = encode_image(image_path)\n",
    "\n",
    "        prompt = ChatPromptTemplate.from_messages(\n",
    "            [\n",
    "                (\"system\", zeroshot_prompt + img_prompt.format(t=item['target'])),\n",
    "                (\n",
    "                    \"user\",\n",
    "                    [\n",
    "                        {\n",
    "                            \"type\": \"image_url\",\n",
    "                            \"image_url\": {\"url\": \"data:image/jpeg;base64,{image_data}\"},\n",
    "                        }\n",
    "                    ],\n",
    "                ),\n",
    "            ]\n",
    "        )\n",
    "        chain = prompt | client\n",
    "        res = chain.invoke({'image_data':image_base64}).content\n",
    "        dict_res = {'pred': res, 'label': item['label']}\n",
    "        res_list.append(dict_res)"
   ]
  },
  {
   "cell_type": "code",
   "execution_count": 61,
   "metadata": {},
   "outputs": [
    {
     "data": {
      "text/plain": [
       "[{'pred': 'To get brick R, first remove the brick J. So the sequence is: J, R.',\n",
       "  'label': 'JR'},\n",
       " {'pred': 'To get brick C, remove the bricks in the following order: F, W, R.',\n",
       "  'label': 'FWRC'},\n",
       " {'pred': 'To get brick Z, you need to remove the bricks on top of it in the following order: R, F, J, C.',\n",
       "  'label': 'RFJCZ'},\n",
       " {'pred': 'To get brick F, remove the bricks in this order: I, G.',\n",
       "  'label': 'IGF'},\n",
       " {'pred': 'To get brick L, you need to remove the bricks above it in the same stack. The sequence is: S, U, Z, C, Q.',\n",
       "  'label': 'SUZCQL'},\n",
       " {'pred': 'To get brick Z, remove the bricks above it in the following order: S, M, R, H, N, Q.',\n",
       "  'label': 'SMRHNQZ'},\n",
       " {'pred': 'To get brick T, remove the bricks in this order: L, W, G.',\n",
       "  'label': 'LWGT'},\n",
       " {'pred': 'To get brick F, you can grab it directly as it is not blocked by any other brick.',\n",
       "  'label': 'F'},\n",
       " {'pred': 'To get brick S, remove the bricks in this order: Q, E, H, F, P, V.',\n",
       "  'label': 'QEHFPVS'},\n",
       " {'pred': 'To get brick I, you need to remove the bricks above it in the following order: F, S.',\n",
       "  'label': 'FSI'},\n",
       " {'pred': 'To get brick B, remove the bricks from top to bottom in the following order: U, I, M.',\n",
       "  'label': 'UIMB'},\n",
       " {'pred': 'To get brick H, remove the bricks on top of it in this order: D, I, B, X, C.',\n",
       "  'label': 'DIBXCH'},\n",
       " {'pred': 'To get brick R, remove the bricks in this order: X, A, F.',\n",
       "  'label': 'XAFR'},\n",
       " {'pred': 'To get brick Q, remove the bricks from the first stack in this order: X, D, T, S, U.',\n",
       "  'label': 'XDTSUQ'},\n",
       " {'pred': 'To get brick N, remove the bricks above it in the following order: F, T, H, I.',\n",
       "  'label': 'FTHIN'},\n",
       " {'pred': 'To get brick K, you can directly pick it up since there are no bricks on top of it.',\n",
       "  'label': 'K'},\n",
       " {'pred': 'To get brick Q, remove the bricks from its stack in the following order: Y, T.',\n",
       "  'label': 'YTQ'},\n",
       " {'pred': 'To get brick F, remove the bricks in the following order: N, D, B, L, G.',\n",
       "  'label': 'NDBLGF'},\n",
       " {'pred': 'To get brick C, remove the bricks from the top in the following order: F, T, I, Z, K, Q, L.',\n",
       "  'label': 'FTIZKQLC'},\n",
       " {'pred': 'To get brick Q, you need to remove the bricks above it in the following order: F, U, M.',\n",
       "  'label': 'FUMQ'},\n",
       " {'pred': 'To get brick V, you need to remove the bricks on top of it in the following order: G, U, Q.',\n",
       "  'label': 'GUQV'},\n",
       " {'pred': 'To get brick C, remove the bricks on top of it in this order: B, S, I, Z, G.',\n",
       "  'label': 'BSIZGC'},\n",
       " {'pred': 'To get brick G, remove the bricks on top of it in this order: N, L, R, B.',\n",
       "  'label': 'NLRBG'},\n",
       " {'pred': 'To get brick M, you can take it directly since there are no bricks on top of it.',\n",
       "  'label': 'M'},\n",
       " {'pred': 'To get brick U, you need to remove the bricks on top of it in order. The sequence is: Q, P, N, S, K.',\n",
       "  'label': 'QPNSKU'},\n",
       " {'pred': 'To get brick L, remove the bricks on top of it in this order: Q, J, O, Y, K, C.',\n",
       "  'label': 'QJOYKCL'},\n",
       " {'pred': 'To get brick B, remove the bricks in the following order: V, K.',\n",
       "  'label': 'VKB'},\n",
       " {'pred': 'To get brick H, remove the bricks in this order: N, G, K.',\n",
       "  'label': 'NGKH'},\n",
       " {'pred': 'To get brick J, remove the bricks from the third stack in the following order: F, Z, D, M, P, Q.',\n",
       "  'label': 'FZDMPQJ'},\n",
       " {'pred': 'To get brick U, remove the bricks in this order: E, I.',\n",
       "  'label': 'EIU'},\n",
       " {'pred': 'To get brick P, remove the bricks in the following order: Y, C, E, U, S, R.',\n",
       "  'label': 'YCEUSRP'},\n",
       " {'pred': 'To get brick F, you can directly grab it since it is not under any other bricks. No removal is necessary.',\n",
       "  'label': 'F'},\n",
       " {'pred': \"To get brick G, you don't need to remove any other bricks, as it is not stacked under any other brick. Therefore, you can directly grab brick G.\",\n",
       "  'label': 'G'},\n",
       " {'pred': 'To get brick S, remove the bricks on top of it in the following order: P, W, H, V.',\n",
       "  'label': 'PWHVS'},\n",
       " {'pred': 'To get brick B, remove the bricks in the following order: N, B.',\n",
       "  'label': 'NB'},\n",
       " {'pred': 'To get brick V, you can pick it up directly since there are no bricks on top of it.',\n",
       "  'label': 'V'},\n",
       " {'pred': 'To get brick H, remove the bricks from top to bottom: W, Q.',\n",
       "  'label': 'WQH'},\n",
       " {'pred': 'To get brick P, you must remove the bricks on top of it. The sequence is: S, P.',\n",
       "  'label': 'SP'},\n",
       " {'pred': 'To get brick D, you need to remove the bricks on top of it in the following order: H, K, G. Then you can access brick D. So the sequence is: H, K, G, D.',\n",
       "  'label': 'HKGD'},\n",
       " {'pred': 'To get brick I, remove the bricks on top of it in this order: Q, E, T, W, M, O, B.',\n",
       "  'label': 'QETWMOBI'},\n",
       " {'pred': 'To get brick D, you can take it directly since there are no bricks on top of it.',\n",
       "  'label': 'D'},\n",
       " {'pred': 'To get brick N, remove the bricks in the following order: D, K.',\n",
       "  'label': 'DKN'},\n",
       " {'pred': 'To get brick R, remove the bricks in this order: M, C, U, I, A, V.',\n",
       "  'label': 'MCUIAVR'},\n",
       " {'pred': 'To get brick H, remove the bricks in this order: D, K.',\n",
       "  'label': 'DKH'},\n",
       " {'pred': 'To get brick H, you need to remove the bricks above it in the following order: B, T, I, N, O.',\n",
       "  'label': 'BTINOH'},\n",
       " {'pred': 'To get brick K, remove the bricks from top to bottom in this order: U, P, I, K.',\n",
       "  'label': 'UPIK'},\n",
       " {'pred': 'To get brick U, remove the bricks in this order: W, U.',\n",
       "  'label': 'WU'},\n",
       " {'pred': 'To get brick C, remove the bricks in this order: A, C.',\n",
       "  'label': 'AC'},\n",
       " {'pred': 'To get brick A, remove the bricks in this order: T, Y, Z, O, Q, W.',\n",
       "  'label': 'TYZOQWA'},\n",
       " {'pred': 'To get brick W, you need to remove the bricks above it in order. The sequence is: T, F.',\n",
       "  'label': 'TFW'}]"
      ]
     },
     "execution_count": 61,
     "metadata": {},
     "output_type": "execute_result"
    }
   ],
   "source": [
    "res_list"
   ]
  },
  {
   "cell_type": "code",
   "execution_count": 63,
   "metadata": {},
   "outputs": [
    {
     "name": "stdout",
     "output_type": "stream",
     "text": [
      "step:  1\n"
     ]
    }
   ],
   "source": [
    "if args.prompt_type.lower() in ['both','all','text+img']:\n",
    "\n",
    "    def encode_image(image_path):\n",
    "        with open(image_path, \"rb\") as image_file:\n",
    "            return base64.b64encode(image_file.read()).decode('utf-8')\n",
    "    \n",
    "\n",
    "    image_subdir = 'images'\n",
    "    if args.color:\n",
    "        color='color'\n",
    "    else:\n",
    "        color='bw'\n",
    "    \n",
    "    if args.gap:\n",
    "        gap='_gap'\n",
    "    else:\n",
    "        gap=''\n",
    "\n",
    "    txt_img_prompt_suffix = ' The described brick layout is visualized in the attached image. You can use both image and textual description to solve the task.'\n",
    "    res_list = []\n",
    "    i = 0\n",
    "\n",
    "    for i, item in enumerate(data):\n",
    "        print('step: ', i+1)\n",
    "        image_path = os.path.join(examples_data_dir, image_subdir, f'img_{i}_{color}{gap}.png')\n",
    "        image_base64 = encode_image(image_path)\n",
    "\n",
    "        prompt = ChatPromptTemplate.from_messages(\n",
    "            [\n",
    "                (\"system\", zeroshot_prompt),\n",
    "                (\n",
    "                    \"user\",\n",
    "                    [\n",
    "                        {\n",
    "                            \"type\": \"text\",\n",
    "                            \"text\": item['data'] + txt_img_prompt_suffix\n",
    "                        },\n",
    "                        {\n",
    "                            \"type\": \"image_url\",\n",
    "                            \"image_url\": {\"url\": \"data:image/jpeg;base64,{image_data}\"},\n",
    "                        }\n",
    "                    ],\n",
    "                ),\n",
    "            ]\n",
    "        )\n",
    "        chain = prompt | client\n",
    "        res = chain.invoke({'image_data':image_base64}).content\n",
    "        dict_res = {'pred': res, 'label': item['label']}\n",
    "        res_list.append(dict_res)"
   ]
  },
  {
   "cell_type": "code",
   "execution_count": 64,
   "metadata": {},
   "outputs": [
    {
     "data": {
      "text/plain": [
       "[{'pred': 'To get brick R, you need to follow these steps:\\n\\n1. Remove brick J (which is on top of brick R).\\n2. Now you can grab brick R.\\n\\nSo the sequence is: J, R.',\n",
       "  'label': 'JR'}]"
      ]
     },
     "execution_count": 64,
     "metadata": {},
     "output_type": "execute_result"
    }
   ],
   "source": [
    "res_list"
   ]
  },
  {
   "cell_type": "code",
   "execution_count": 54,
   "metadata": {},
   "outputs": [
    {
     "name": "stdout",
     "output_type": "stream",
     "text": [
      "Results saved to ../data/results/2D_img_bw_gap_gpt-4o-2024-08-06.json\n"
     ]
    }
   ],
   "source": [
    "if args.prompt_type.lower() in ['img','image','both','all','text+img']:\n",
    "    colorname = '_color' if args.color else '_bw'\n",
    "else:\n",
    "    colorname = ''\n",
    "\n",
    "if args.gap:\n",
    "    gap = '_gap'\n",
    "else:\n",
    "    gap = ''\n",
    "\n",
    "output_path = os.path.join('../data/results/', f'{args.dim}D_{args.prompt_type}{colorname}{gap}_{model_name}.json')\n",
    "os.makedirs(os.path.dirname(output_path), exist_ok=True)\n",
    "\n",
    "with open(output_path, 'w') as outfile:\n",
    "    json.dump(res_list, outfile)\n",
    "\n",
    "print(f'Results saved to {output_path}')"
   ]
  },
  {
   "cell_type": "code",
   "execution_count": null,
   "metadata": {},
   "outputs": [],
   "source": []
  }
 ],
 "metadata": {
  "kernelspec": {
   "display_name": "venv_sigspatial",
   "language": "python",
   "name": "python3"
  },
  "language_info": {
   "codemirror_mode": {
    "name": "ipython",
    "version": 3
   },
   "file_extension": ".py",
   "mimetype": "text/x-python",
   "name": "python",
   "nbconvert_exporter": "python",
   "pygments_lexer": "ipython3",
   "version": "3.11.5"
  }
 },
 "nbformat": 4,
 "nbformat_minor": 2
}
