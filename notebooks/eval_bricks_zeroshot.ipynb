{
 "cells": [
  {
   "cell_type": "code",
   "execution_count": 67,
   "metadata": {
    "ExecuteTime": {
     "end_time": "2024-08-29T18:59:02.500603660Z",
     "start_time": "2024-08-29T18:59:02.456723716Z"
    }
   },
   "outputs": [],
   "source": [
    "import json\n",
    "import re\n",
    "import os"
   ]
  },
  {
   "cell_type": "code",
   "execution_count": 68,
   "metadata": {
    "ExecuteTime": {
     "end_time": "2024-08-29T18:59:03.903806526Z",
     "start_time": "2024-08-29T18:59:03.890010530Z"
    }
   },
   "outputs": [
    {
     "name": "stdout",
     "output_type": "stream",
     "text": [
      "2D_text_gpt-4o-mini.json\n",
      "acc 0.0\n",
      "0.2952617644345958\n",
      "0.6701680672268907\n",
      "1D_text_gpt-3.5-turbo.json\n",
      "acc 0.5098039215686274\n",
      "0.7888422035480859\n",
      "0.6956115779645191\n",
      "2D_image_color_gpt-4o-mini.json\n",
      "acc 0.0\n",
      "0.24341283434117159\n",
      "0.4310457516339868\n",
      "1D_text_gpt-4o-mini.json\n",
      "acc 0.0196078431372549\n",
      "0.42566358751024563\n",
      "0.6256238859180036\n",
      "1D_text_gpt-4o-2024-08-06.json\n",
      "acc 0.29411764705882354\n",
      "0.8586288317603191\n",
      "0.9638344226579522\n",
      "2D_text_gpt-4o-2024-08-06.json\n",
      "acc 0.0784313725490196\n",
      "0.5892138380278796\n",
      "0.796545284780579\n",
      "2D_image_color_gpt-4o-2024-08-06.json\n",
      "acc 0.0\n",
      "0.27939084934167785\n",
      "0.6397759103641456\n",
      "1D_image_color_gpt-4o-2024-08-06.json\n",
      "acc 0.19607843137254902\n",
      "0.8103354162177691\n",
      "0.9732026143790851\n",
      "1D_image_color_gpt-4o-mini.json\n",
      "acc 0.45098039215686275\n",
      "0.652373878844467\n",
      "0.6411149308208131\n",
      "2D_text_gpt-3.5-turbo.json\n",
      "acc 0.0784313725490196\n",
      "0.25438501009435266\n",
      "0.45924369747899146\n"
     ]
    }
   ],
   "source": [
    "def longest_common_substring(s1, s2):\n",
    "    m = [[0] * (1 + len(s2)) for i in range(1 + len(s1))]\n",
    "    longest, x_longest = 0, 0\n",
    "    for x in range(1, 1 + len(s1)):\n",
    "        for y in range(1, 1 + len(s2)):\n",
    "            if s1[x - 1] == s2[y - 1]:\n",
    "                m[x][y] = m[x - 1][y - 1] + 1\n",
    "                if m[x][y] > longest:\n",
    "                    longest = m[x][y]\n",
    "                    x_longest = x\n",
    "            else:\n",
    "                m[x][y] = 0\n",
    "    return s1[x_longest - longest: x_longest]\n",
    "\n",
    "\n",
    "\n",
    "def evaluate_results(results_filepath):\n",
    "    data_final = []\n",
    "    with open(results_filepath, 'r') as f:\n",
    "        data = json.load(f)\n",
    "    data_final += data\n",
    "\n",
    "    i = 1\n",
    "    p, r = 0, 0\n",
    "    ac = 0\n",
    "    for item in data_final:\n",
    "        \n",
    "        pred = item['pred']\n",
    "        res = \"\"\n",
    "        for char in str(pred[-200:]).split(\"equence\")[-1]:\n",
    "            if char.isupper():\n",
    "                res += char # get all uppercase letters as brick names\n",
    "        if len(res)>=2:\n",
    "            if res[0] == res[1]:\n",
    "                res = res[1:] # remove the first letter if it is repeated\n",
    "        if item['label'][-1] != res[-1]: \n",
    "            res += item['label'][-1] # add the last letter of the label (target brick) if it is not already in the prediction\n",
    "        if res == item['label']: #or res == item['label'][:-1]: #or res[:-1]==item['label']:\n",
    "            ac += 1\n",
    "        lcs = longest_common_substring(res,item['label'] )\n",
    "        r += len(lcs)/len(item['label'])\n",
    "        if len(res)==0:\n",
    "            continue\n",
    "        p += len(lcs)/len(res)\n",
    "        i += 1\n",
    "        #ac = 0\n",
    "\n",
    "    acc = ac/i\n",
    "    print('acc', acc)\n",
    "    print(p/i)\n",
    "    print(r/i)\n",
    "# models = [\n",
    "#     'gpt-3.5-turbo',\n",
    "#     'gpt-4o-mini',\n",
    "#     'gpt-4o-2024-08-06'\n",
    "# ]\n",
    "\n",
    "# for model_name in models:\n",
    "#     examples_data_dir = '../data/brick_1D_50'\n",
    "#     results_file_path = os.path.join(examples_data_dir, f'results_{model_name}.json')\n",
    "#     print(model_name)\n",
    "#     evaluate_results(results_filepath=results_file_path)\n",
    "\n",
    "results_dir = '../data/results'\n",
    "# iterate over json files in the results directory\n",
    "for file in os.listdir(results_dir):\n",
    "    if file.endswith('.json'):\n",
    "        results_file_path = os.path.join(results_dir, file)\n",
    "        print(file)\n",
    "        evaluate_results(results_filepath=results_file_path)\n"
   ]
  },
  {
   "cell_type": "code",
   "execution_count": 128,
   "metadata": {
    "ExecuteTime": {
     "end_time": "2024-08-29T19:30:35.491223465Z",
     "start_time": "2024-08-29T19:30:35.485862119Z"
    }
   },
   "outputs": [
    {
     "name": "stdout",
     "output_type": "stream",
     "text": [
      "1 FWRC \t RC \t : R, C\n",
      "['f brick C, so we need to remove brick R first.\\n2. After removing brick R, we can then grab brick C.\\n\\nThus, the sequence of bricks to be removed to get brick C is: R, C. \\n\\nSo the final answer is: R, C.']\n",
      "2 RFJCZ \t JCZ \t : J, C\n",
      "['o remove brick C next.\\n4. Now that brick C is removed, we can finally access brick Z.\\n\\nThus, the sequence of bricks to be removed from top to bottom to get brick Z is: J, C. \\n\\nSo, the answer is: J, C.']\n",
      "3 IGF \t GF \t : G, F\n",
      "[' ignore R for the purpose of grabbing F.\\n5. The only brick we need to remove to access brick F is brick G.\\n\\nThus, the sequence of bricks to remove to get to brick F is: G, F.\\n\\nSo, the answer is: G, F.']\n",
      "4 SUZCQL \t CQL \t : C, Q\n",
      "[' N, and M is on top of E, but we are focused on L.\\n8. Finally, we can access L after removing Q and C.\\n\\nThus, the sequence of bricks to be removed to get to brick L is: C, Q.\\n\\nSo, the answer is: C, Q.']\n",
      "5 SMRHNQZ \t FLIONRQZ \t : F, L, I, O, N, R, Q\n",
      "['ter removing all the necessary bricks, we can finally grab brick Z.\\n\\nThe sequence of bricks removed from top to bottom to get brick Z is: F, L, I, O, N, R, Q. \\n\\nSo, the answer is: F, L, I, O, N, R, Q.']\n",
      "6 LWGT \t GT \t : G, T\n",
      "['e brick G.\\n3. Now we can access brick T directly since there are no other bricks above it.\\n\\nThe sequence of bricks to be removed from top to bottom to get brick T is: G, T.\\n\\nThus, the answer is: G, T.']\n",
      "7 F \t KDF \t : K, D, F\n",
      "['we can access D, but since D is to the right of F, we can directly grab F without needing to remove D.\\n\\nThus, the sequence of bricks to be removed to get brick F is:\\n\\nK, D\\n\\nSo, the answer is: K, D, F.']\n",
      "8 QEHFPVS \t VQEHFPS \t : V, Q, E, H, F, P\n",
      "['ectly.\\n4. Finally, after removing brick V, we can access brick S.\\n\\nThe sequence of bricks to be removed from top to bottom to access brick S is: V, Q, E, H, F, P.\\n\\nSo, the answer is: V, Q, E, H, F, P.']\n",
      "12 XAFR \t AFR \t : A, F\n",
      "['er removing brick A, we can now remove brick F.\\n4. Now that brick F is removed, we can grab brick R.\\n\\nThe sequence of bricks to be removed from top to bottom is: A, F.\\n\\nTherefore, the answer is: A, F.']\n",
      "13 XDTSUQ \t NMWHBGFZKVUSTQ \t : N, M, W, H, B, G, F, Z, K, V, U, S, T\n",
      "['ch is below brick U.\\n\\nSo, the sequence of bricks to be removed from top to bottom to get brick Q is: N, M, W, H, B, G, F, Z, K, V, U, S, T.\\n\\nThe final answer is: N, M, W, H, B, G, F, Z, K, V, U, S, T.']\n",
      "14 FTHIN \t THIN \t : T, H, I\n",
      "['ow brick K, but since K is not directly above N, we can skip it for now.\\n6. Finally, we can grab brick N.\\n\\nThe sequence of bricks removed from top to bottom is: T, H, I.\\n\\nThus, the answer is: T, H, I.']\n",
      "15 K \t ASXK \t : A, S, X\n",
      "['rick A (top of S).\\n2. Remove brick S (top of X).\\n3. Remove brick X (to access K).\\n4. Finally, we can grab brick K.\\n\\nThus, the sequence of bricks to be removed is: A, S, X.\\n\\nSo, the answer is: A, S, X.']\n",
      "17 NDBLGF \t GF \t : G\n",
      "['top of it. \\n\\n1. Brick G is on top of brick F, so we need to remove brick G first.\\n2. After removing brick G, we can then grab brick F.\\n\\nThus, the sequence of bricks to be removed to get brick F is: G.']\n",
      "18 FTIZKQLC \t RTIZKQLC \t : R, T, I, Z, K, Q, L\n",
      "['k R.\\n8. Brick R is on the bottom.\\n\\nSo, to get brick C, we need to remove the bricks in the following order: R, T, I, Z, K, Q, L.\\n\\nThus, the sequence of bricks to be removed is: R, T, I, Z, K, Q, L, C.']\n",
      "19 FUMQ \t HTUFMQ \t : H, T, U, F, M, Q\n",
      "[' on top of brick U).\\n5. Remove brick M (since it is on top of brick Q).\\n6. Finally, remove brick Q.\\n\\nSo, the sequence of bricks removed to get brick Q is: H, T, U, F, M, Q. \\n\\nAnswer: H, T, U, F, M, Q.']\n",
      "20 GUQV \t EZKUGQV \t : E, Z, K, U, G, Q, V\n",
      "[' have removed all the bricks above brick V, and we can grab brick V.\\n\\nThe sequence of bricks removed from top to bottom to get brick V is: E, Z, K, U, G, Q, V. \\n\\nSo the answer is: E, Z, K, U, G, Q, V.']\n",
      "21 BSIZGC \t ZGC \t : Z, G\n",
      "[' Now, we can remove brick G.\\n6. After removing brick G, we can finally access brick C.\\n\\nThe sequence of bricks to be removed from top to bottom to get brick C is: Z, G. \\n\\nThus, the answer is: Z, G, C.']\n",
      "22 NLRBG \t CSXG \t : C, S, X\n",
      "['top of X.\\n3. Then, we remove X, which is below G.\\n4. Finally, we can grab G.\\n\\nSo, the sequence of bricks to be removed from top to bottom to get brick G is: C, S, X. \\n\\nThus, the answer is: C, S, X, G.']\n",
      "23 M \t TSCM \t : T, S, C, M\n",
      "['. Now we can access C, which is to the right of Y.\\n5. Finally, we can grab brick M, which is to the right of C.\\n\\nSo, the sequence of bricks removed to get brick M is: T, S, C, M. \\n\\nAnswer: T, S, C, M.']\n",
      "24 QPNSKU \t JCTOKU \t : J, C, T, O, K\n",
      "['ick O.\\n8. Finally, we can remove brick K, which is on top of brick U.\\n\\nSo the sequence of bricks to be removed from top to bottom to get brick U is: J, C, T, O, K.\\n\\nThus, the answer is: J, C, T, O, K.']\n",
      "27 NGKH \t KPJCZH \t : K, P, J, C, Z\n",
      "['.\\n5. Finally, we can access brick H after removing the bricks above it.\\n\\nThe sequence of bricks to be removed from top to bottom to access brick H is: K, P, J, C, Z.\\n\\nSo, the answer is: K, P, J, C, Z.']\n",
      "28 FZDMPQJ \t ZDMPQJ \t : Z, D, M, P, Q\n",
      "['. Now we can remove brick Q, which is on top of brick J.\\n7. Finally, we can grab brick J.\\n\\nThe sequence of bricks to be removed from top to bottom is: Z, D, M, P, Q.\\n\\nSo, the answer is: Z, D, M, P, Q.']\n",
      "30 YCEUSRP \t RBDP \t : R, B, D\n",
      "['ext.\\n4. After removing B, we can then remove D.\\n5. Finally, we can grab brick P.\\n\\nSo, the sequence of bricks to be removed from top to bottom to get brick P is: R, B, D.\\n\\nThus, the answer is: R, B, D.']\n",
      "31 F \t RTF \t : R, T\n",
      "['first.\\n4. After removing R, we can then remove T.\\n5. Now that T is removed, we can access brick F.\\n\\nThe sequence of bricks removed from top to bottom to get brick F is: R, T.\\n\\nSo, the answer is: R, T.']\n",
      "32 G \t FOQIPTG \t : F, O, Q, I, P, T\n",
      "['remove brick T.\\n8. At this point, brick G is accessible since it is to the right of brick I.\\n\\nThus, the sequence of bricks removed to get to brick G is: F, O, Q, I, P, T. \\n\\nAnswer: F, O, Q, I, P, T, G']\n",
      "33 PWHVS \t VS \t : V\n",
      "['k S, so we need to remove brick V first.\\n2. After removing brick V, we can then access brick S directly.\\n\\nThus, the sequence of bricks to be removed to get brick S is: V. \\n\\nSo, the final answer is: V.']\n",
      "34 NB \t RWVNB \t : R, W, V, N\n",
      "['which is on top of brick B.\\n8. Remove brick N.\\n\\nNow that all the bricks above B have been removed, we can grab brick B.\\n\\nThe sequence of bricks removed is: R, W, V, N. \\n\\nSo, the answer is: R, W, V, N.']\n",
      "35 V \t QEYNV \t : Q, E, Y, N\n",
      "['op of brick N.\\n4. Now, we can remove brick N, which is to the left of brick V.\\n5. Finally, we can grab brick V.\\n\\nSo, the sequence of bricks removed to get brick V is: Q, E, Y, N. \\n\\nAnswer: Q, E, Y, N.']\n",
      "36 WQH \t QH \t : Q\n",
      "['\\n\\n1. Brick Q is on top of brick H, so we need to remove brick Q first.\\n2. After removing brick Q, we can then access brick H directly.\\n\\nThus, the sequence of bricks to be removed to get brick H is: Q.']\n",
      "38 HKGD \t KGD \t : K, G\n",
      "[', which is on top of G.\\n2. Remove K.\\n3. Now, G is exposed. Remove G.\\n4. Now, D is exposed. \\n\\nThus, the sequence of bricks removed from top to bottom to get brick D is: K, G. \\n\\nSo, the answer is: K, G.']\n",
      "39 QETWMOBI \t BOMCNATEQI \t : B, O, M, C, N, A, T, E, Q, I\n",
      "['brick I, so we can finally remove brick I.\\n\\nThe sequence of bricks to be removed from top to bottom to get brick I is: B, O, M, C, N, A, T, E, Q, I.\\n\\nThus, the answer is: B, O, M, C, N, A, T, E, Q, I.']\n",
      "40 D \t MJASD \t : M, J, A, S\n",
      "['e it is now on top of brick S).\\n4. Remove brick S (since it is now on top of brick D).\\n5. Finally, we can grab brick D.\\n\\nSo, the sequence of bricks removed is: M, J, A, S. \\n\\nThe answer is: M, J, A, S.']\n",
      "42 MCUIAVR \t VAIUCMR \t : V, A, I, U, C, M\n",
      "['brick A, we can access brick V, which we remove.\\n9. Finally, we can access brick R.\\n\\nThe sequence of bricks to be removed from top to bottom is: V, A, I, U, C, M.\\n\\nSo, the answer is: V, A, I, U, C, M.']\n",
      "43 DKH \t SQKH \t : S, Q, K, H\n",
      "['op of brick H, so we need to remove brick K next.\\n4. After removing brick K, we can then remove brick H.\\n\\nThus, the sequence of bricks to be removed to get brick H is: S, Q, K, H.\\n\\nAnswer: S, Q, K, H.']\n",
      "45 UPIK \t IK \t : I, K\n",
      "['ain, this does not affect our goal of getting K.\\n4. We only need to focus on brick I being on top of brick K.\\n\\nThus, the sequence to get brick K is to first remove brick I.\\n\\nThe final answer is: I, K.']\n",
      "46 WU \t WHNU \t : W, H, N, U\n",
      "['H, we can remove brick N.\\n4. Finally, with brick N removed, we can now access and grab brick U.\\n\\nThe sequence of bricks to be removed from top to bottom is: W, H, N, U.\\n\\nSo, the answer is: W, H, N, U.']\n",
      "47 AC \t ASDC \t : A, S, D\n",
      "['o remove brick D after removing S.\\n4. Finally, we can access brick C after removing A, S, and D.\\n\\nThus, the sequence of bricks to be removed to get to brick C is: A, S, D.\\n\\nSo, the answer is: A, S, D.']\n",
      "48 TYZOQWA \t WOQA \t : W, O, Q\n",
      "[' so we remove brick Q next.\\n4. Now we can remove brick W.\\n5. Finally, we can access brick A.\\n\\nThe sequence of bricks removed from top to bottom to get brick A is: W, O, Q.\\n\\nSo, the answer is: W, O, Q.']\n",
      "49 TFW \t KYJFW \t : K, Y, J, F\n",
      "['first.\\n6. The brick F is on top of W, so we need to remove F next.\\n7. Finally, we can grab W.\\n\\nThe sequence of bricks to be removed from top to bottom is: K, Y, J, F.\\n\\nThus, the answer is: K, Y, J, F.']\n",
      "acc 0.22\n",
      "0.655642857142857\n",
      "0.6835714285714285\n"
     ]
    }
   ],
   "source": [
    "# results_filepath = '../data/results/1D_image_color_gpt-4o-2024-08-06.json'\n",
    "# results_filepath = '../data/results/1D_image_color_gpt-4o-mini.json'\n",
    "# results_filepath = '../data/results/1D_text_gpt-3.5-turbo.json'\n",
    "# results_filepath = '../data/results/1D_text_gpt-4o-2024-08-06.json'\n",
    "# results_filepath = '../data/results/1D_text_gpt-4o-mini.json'\n",
    "# results_filepath = '../data/results/2D_image_color_gpt-4o-2024-08-06.json'\n",
    "# results_filepath = '../data/results/2D_image_color_gpt-4o-mini.json'\n",
    "# results_filepath = '../data/results/2D_text_gpt-3.5-turbo.json'\n",
    "# results_filepath = '../data/results/2D_text_gpt-4o-2024-08-06.json'\n",
    "# results_filepath = '../data/results/2D_text_gpt-4o-mini.json'\n",
    "\n",
    "\n",
    "data_final = []\n",
    "with open(results_filepath, 'r') as f:\n",
    "    data = json.load(f)\n",
    "data_final += data\n",
    "\n",
    "i = 1\n",
    "p, r = 0, 0\n",
    "ac = 0\n",
    "for i, item in enumerate(data_final):\n",
    "    pred = item['pred']\n",
    "    res = \"\"\n",
    "\n",
    "    # pattern = r\": *([A-Z, ]+)\\.\" # match the brick names between : and .\n",
    "    # pattern = r\"(?s): *([^:]*[A-Z, ]+)\\.\" # match the brick names between : and .\n",
    "    # pattern = r\": *([A-Za-z, ]+)\\.\"\n",
    "    # pattern = r\": *([A-Za-z, ]+)(\\.|$)\"\n",
    "    # pattern2 = r\"(?:[:.]) *([A-Za-z, ()*]+)(\\.|$)\"\n",
    "    pattern = r': *([A-Z](?![a-z])(?:, *[A-Z](?![a-z]))*)'\n",
    "    pattern2 = r'(?:[:.]) *([A-Z](?![a-z])(?:, *[A-Z](?![a-z]))*)'\n",
    "    pattern3 = r'\\b[A-Z]\\b|(?<![A-Za-z])[A-Z](?![a-z])'\n",
    "\n",
    "    match = re.search(pattern, item['pred'][-200:])\n",
    "    if not match:\n",
    "        match = re.search(pattern2, item['pred'][-200:])\n",
    "    if not match:\n",
    "        match = re.search(pattern3, item['pred'][-200:])\n",
    "        \n",
    "    if match:\n",
    "        res = match.group(0)\n",
    "        res = ''.join(list(filter(lambda x: x.isupper(), res)))\n",
    "        if len(res)>=2:\n",
    "            if res[0] == res[1]:\n",
    "                res = res[1:] # remove the first letter if it is repeated\n",
    "        if item['label'][-1] != res[-1]: \n",
    "            res += item['label'][-1] # add the last letter of the label (target brick) if it is not already in the prediction\n",
    "        if res == item['label']:\n",
    "            # print('correct')\n",
    "            ac += 1\n",
    "        else:\n",
    "            # print(item['pred'])\n",
    "            # print(res)\n",
    "            # print(item['label'])\n",
    "            print(f'{i} {item[\"label\"]} \\t {res} \\t {match.group(0)}')\n",
    "            print([item['pred'][-200:]])\n",
    "        lcs = longest_common_substring(res,item['label'] )\n",
    "        len(lcs)/len(item['label'])\n",
    "        len(lcs)/len(res)\n",
    "        if len(res)==0:\n",
    "            pass\n",
    "        r += len(lcs)/len(item['label'])\n",
    "        if len(res)==0:\n",
    "            continue\n",
    "        p += len(lcs)/len(res)\n",
    "    else:\n",
    "        print(f'no answer found in {item[\"pred\"][-200:]}')\n",
    "        pass\n",
    "\n",
    "acc = ac/len(data_final)\n",
    "print('acc', acc)\n",
    "print(p/len(data_final))\n",
    "print(r/len(data_final))"
   ]
  },
  {
   "cell_type": "code",
   "execution_count": 90,
   "metadata": {
    "ExecuteTime": {
     "end_time": "2024-08-29T19:22:00.929601429Z",
     "start_time": "2024-08-29T19:22:00.883722993Z"
    }
   },
   "outputs": [
    {
     "name": "stdout",
     "output_type": "stream",
     "text": [
      "F\n",
      "I, N, O, Q, F, L\n"
     ]
    }
   ],
   "source": [
    "import re\n",
    "\n",
    "def extract_uppercase(text):\n",
    "    # Define the pattern to match uppercase letters after a colon or standalone uppercase letters\n",
    "    pattern = r'(?:: *([A-Z](?![a-z])(?:, *[A-Z](?![a-z]))*))|([A-Z](?![a-z]))'\n",
    "    \n",
    "    # Find all matches using the regex pattern\n",
    "    matches = re.findall(pattern, text)\n",
    "    \n",
    "    # Extract the non-empty matches from the tuples returned by re.findall\n",
    "    result = [match[0] if match[0] else match[1] for match in matches]\n",
    "    \n",
    "    # Join the matches with a comma and space for the final result\n",
    "    return ', '.join(result)\n",
    "\n",
    "# Example sentences\n",
    "sentence1 = \"So, you only need to grab brick F.\"\n",
    "sentence2 = \"To get brick I, remove the bricks in this order: N, O, Q, F, L.\"\n",
    "\n",
    "# Extract and print the results\n",
    "result1 = extract_uppercase(sentence1)\n",
    "print(result1)  # Output: \"F\"\n",
    "\n",
    "result2 = extract_uppercase(sentence2)\n",
    "print(result2)  # Output: \"N, O, Q, F, L\""
   ]
  },
  {
   "cell_type": "code",
   "execution_count": 56,
   "metadata": {},
   "outputs": [
    {
     "name": "stdout",
     "output_type": "stream",
     "text": [
      "FPEI\n"
     ]
    }
   ],
   "source": [
    "sentence = \"To get brick L, you need to remove the bricks above it in this order: F, P, E, I. Then you can take brick L.\"\n",
    "# pattern = r\"(?<=:\\s*)([A-Z, ]+)(?=\\.)\"\n",
    "pattern = r\": *([A-Z, ]+)\\.\" # match the brick names between : and .\n",
    "\n",
    "result = ''\n",
    "match = re.search(pattern, sentence)\n",
    "if match:\n",
    "    result = match.group(1)\n",
    "    result = ''.join(list(filter(lambda x: x.isupper(), result)))\n",
    "print(result)"
   ]
  },
  {
   "cell_type": "code",
   "execution_count": 54,
   "metadata": {},
   "outputs": [
    {
     "data": {
      "text/plain": [
       "'FPEI'"
      ]
     },
     "execution_count": 54,
     "metadata": {},
     "output_type": "execute_result"
    }
   ],
   "source": []
  },
  {
   "cell_type": "code",
   "execution_count": 3,
   "metadata": {},
   "outputs": [
    {
     "name": "stdout",
     "output_type": "stream",
     "text": [
      "acc 0.0\n",
      "0.0\n",
      "0.0\n"
     ]
    }
   ],
   "source": [
    "\n",
    "i = 1\n",
    "p, r = 0, 0\n",
    "ac = 0\n",
    "for item in data_final:\n",
    "    pred = item['pred']\n",
    "    text = str(pred[-200:])\n",
    "    \n",
    "\n",
    "    text_list = text.split(\"equence\")\n",
    "    #print(text_list)\n",
    "    uppercase_letters = \"\"\n",
    "    for char in text_list[-1]:\n",
    "        if char.isupper():\n",
    "            uppercase_letters += char\n",
    "    if len(uppercase_letters)>=2:\n",
    "        if uppercase_letters[0] == uppercase_letters[1]:\n",
    "            uppercase_letters = uppercase_letters[1:]\n",
    "    # print(uppercase_letters)\n",
    "    # print(item['label'])\n",
    "    res = uppercase_letters\n",
    "    if res == item['label']: #or res == item['label'][:-1]: #or res[:-1]==item['label']:\n",
    "        ac += 1\n",
    "    lcs = longest_common_substring(res,item['label'] )\n",
    "    r += len(lcs)/len(item['label'])\n",
    "    if len(res)==0:\n",
    "        continue\n",
    "    p += len(lcs)/len(res)\n",
    "    i += 1\n",
    "    #ac = 0\n",
    "\n",
    "acc = ac/i\n",
    "print('acc', acc)\n",
    "print(p/i)\n",
    "print(r/i)"
   ]
  },
  {
   "cell_type": "code",
   "execution_count": 24,
   "metadata": {
    "ExecuteTime": {
     "end_time": "2024-08-29T12:51:15.694569263Z",
     "start_time": "2024-08-29T12:51:15.691809414Z"
    }
   },
   "outputs": [],
   "source": [
    "import re\n",
    "\n",
    "text = \"\"\"To get brick Q, you need to follow these steps:\n",
    "\n",
    "1. Remove brick G.\n",
    "2. Remove brick U.\n",
    "3. Remove brick P.\n",
    "4. Remove brick X.\n",
    "5. Remove brick Z.\n",
    "6. Remove brick R.\n",
    "7. Remove brick C.\n",
    "8. Finally, grab brick Q.\n",
    "\n",
    "So the sequence of actions is: remove G, remove U, remove P, remove X, remove Z, remove R, remove C, grab Q.\"\"\"\n",
    "\n",
    "pattern = r\": *([A-Z, ]+)\\.\"\n",
    "\n",
    "match = re.search(pattern, text)\n",
    "if match:\n",
    "    result = match.group(1).strip()\n",
    "    print(result)  # Output: \"G, U, P, X, Z, R, C, Q\""
   ]
  },
  {
   "cell_type": "code",
   "outputs": [
    {
     "name": "stdout",
     "output_type": "stream",
     "text": [
      "remove G, remove U, remove P, remove X, remove Z, remove R, remove C, grab Q\n"
     ]
    }
   ],
   "source": [
    "import re\n",
    "\n",
    "text = \"\"\"To get brick Q, you need to follow these steps:\n",
    "1. Remove brick G\n",
    "2. Remove brick U\n",
    "3. Remove brick P.\n",
    "4. Remove brick X.\n",
    "5. Remove brick Z.\n",
    "6. Remove brick R.\n",
    "7. Remove brick C.\n",
    "8. Finally, grab brick Q.\n",
    "\n",
    "So the sequence of actions is: remove G, remove U, remove P, remove X, remove Z, remove R, remove C, grab Q.\"\"\"\n",
    "\n",
    "pattern = r\": *([A-Za-z, ]+)\\.\"\n",
    "\n",
    "match = re.search(pattern, text)\n",
    "if match:\n",
    "    result = match.group(1).strip()\n",
    "    print(result)  # Output: \"remove G, remove U, remove P, remove X, remove Z, remove R, remove C, grab Q\"\n"
   ],
   "metadata": {
    "collapsed": false,
    "ExecuteTime": {
     "end_time": "2024-08-29T12:52:45.478697450Z",
     "start_time": "2024-08-29T12:52:45.434990068Z"
    }
   },
   "execution_count": 26
  },
  {
   "cell_type": "code",
   "outputs": [],
   "source": [],
   "metadata": {
    "collapsed": false
   }
  }
 ],
 "metadata": {
  "kernelspec": {
   "display_name": "venv_sigspatial",
   "language": "python",
   "name": "python3"
  },
  "language_info": {
   "codemirror_mode": {
    "name": "ipython",
    "version": 3
   },
   "file_extension": ".py",
   "mimetype": "text/x-python",
   "name": "python",
   "nbconvert_exporter": "python",
   "pygments_lexer": "ipython3",
   "version": "3.11.5"
  }
 },
 "nbformat": 4,
 "nbformat_minor": 2
}
