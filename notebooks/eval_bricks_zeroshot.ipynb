{
 "cells": [
  {
   "cell_type": "code",
   "execution_count": 1,
   "metadata": {},
   "outputs": [],
   "source": [
    "import json\n",
    "import re\n",
    "import os"
   ]
  },
  {
   "cell_type": "code",
   "execution_count": 23,
   "metadata": {},
   "outputs": [],
   "source": [
    "def longest_common_substring(s1, s2):\n",
    "    m = [[0] * (1 + len(s2)) for i in range(1 + len(s1))]\n",
    "    longest, x_longest = 0, 0\n",
    "    for x in range(1, 1 + len(s1)):\n",
    "        for y in range(1, 1 + len(s2)):\n",
    "            if s1[x - 1] == s2[y - 1]:\n",
    "                m[x][y] = m[x - 1][y - 1] + 1\n",
    "                if m[x][y] > longest:\n",
    "                    longest = m[x][y]\n",
    "                    x_longest = x\n",
    "            else:\n",
    "                m[x][y] = 0\n",
    "    return s1[x_longest - longest: x_longest]\n",
    "\n",
    "\n",
    "def evaluate_results(results_filepath):\n",
    "    data_final = []\n",
    "    with open(results_filepath, 'r') as f:\n",
    "        data = json.load(f)\n",
    "    data_final += data\n",
    "\n",
    "    i = 1\n",
    "    p, r = 0, 0\n",
    "    ac = 0\n",
    "    for item in data_final:\n",
    "        pred = item['pred']\n",
    "        #print(i)\n",
    "        text = str(pred[-200:])\n",
    "        #print(text)\n",
    "        \n",
    "\n",
    "        text_list = text.split(\"equence\")\n",
    "        #print(text_list)\n",
    "        uppercase_letters = \"\"\n",
    "        for char in text_list[-1]:\n",
    "            if char.isupper():\n",
    "                uppercase_letters += char\n",
    "        if len(uppercase_letters)>=2:\n",
    "            if uppercase_letters[0] == uppercase_letters[1]:\n",
    "                uppercase_letters = uppercase_letters[1:]\n",
    "        # print(uppercase_letters)\n",
    "        # print(item['label'])\n",
    "        res = uppercase_letters\n",
    "        if res == item['label']: #or res == item['label'][:-1]: #or res[:-1]==item['label']:\n",
    "            ac += 1\n",
    "        lcs = longest_common_substring(res,item['label'] )\n",
    "        r += len(lcs)/len(item['label'])\n",
    "        if len(res)==0:\n",
    "            continue\n",
    "        p += len(lcs)/len(res)\n",
    "        i += 1\n",
    "        #ac = 0\n",
    "\n",
    "    acc = ac/i\n",
    "    print('acc', acc)\n",
    "    print(p/i)\n",
    "    print(r/i)"
   ]
  },
  {
   "cell_type": "code",
   "execution_count": 24,
   "metadata": {},
   "outputs": [
    {
     "name": "stdout",
     "output_type": "stream",
     "text": [
      "gpt-3.5-turbo\n",
      "acc 0.5098039215686274\n",
      "0.7888422035480859\n",
      "0.6956115779645191\n",
      "gpt-4o-mini\n",
      "acc 0.0\n",
      "0.3988828177090788\n",
      "0.5563817446170387\n",
      "gpt-4o-2024-08-06\n",
      "acc 0.0\n",
      "0.8490783740396741\n",
      "0.8472604193192426\n"
     ]
    }
   ],
   "source": [
    "models = [\n",
    "    'gpt-3.5-turbo',\n",
    "    'gpt-4o-mini',\n",
    "    'gpt-4o-2024-08-06'\n",
    "]\n",
    "for model_name in models:\n",
    "    examples_data_dir = '../data/brick_1D_50'\n",
    "    results_file_path = os.path.join(examples_data_dir, f'results_{model_name}.json')\n",
    "    print(model_name)\n",
    "    evaluate_results(results_filepath=results_file_path)\n"
   ]
  },
  {
   "cell_type": "code",
   "execution_count": null,
   "metadata": {},
   "outputs": [],
   "source": []
  }
 ],
 "metadata": {
  "kernelspec": {
   "display_name": "venv_sigspatial",
   "language": "python",
   "name": "python3"
  },
  "language_info": {
   "codemirror_mode": {
    "name": "ipython",
    "version": 3
   },
   "file_extension": ".py",
   "mimetype": "text/x-python",
   "name": "python",
   "nbconvert_exporter": "python",
   "pygments_lexer": "ipython3",
   "version": "3.11.5"
  }
 },
 "nbformat": 4,
 "nbformat_minor": 2
}
