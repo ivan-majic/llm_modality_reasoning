{
 "cells": [
  {
   "cell_type": "code",
   "execution_count": 9,
   "metadata": {},
   "outputs": [],
   "source": [
    "import os\n",
    "from time import sleep\n",
    "import json\n",
    "import argparse\n",
    "from langchain_openai import ChatOpenAI\n",
    "from langchain_core.prompts import ChatPromptTemplate\n",
    "from langchain.chains import LLMChain"
   ]
  },
  {
   "cell_type": "code",
   "execution_count": 10,
   "metadata": {},
   "outputs": [],
   "source": [
    "parser = argparse.ArgumentParser(description=\"test LLM planning abilities\")\n",
    "parser.add_argument(\n",
    "        \"--prompt_type\",\n",
    "        type=str,\n",
    "        default='cos',\n",
    "        help=\"type of prompt\",\n",
    "    )\n",
    "\n",
    "parser.add_argument(\n",
    "        \"--setting\",\n",
    "        type=str,\n",
    "        default='shuffle_both', # i: changed to shuffle_both\n",
    "        help=\"setting\",\n",
    "    )\n",
    "\n",
    "parser.add_argument(\n",
    "        \"--num\",\n",
    "        type=str,\n",
    "        default='2',\n",
    "        help=\"num\",\n",
    "    )\n",
    "parser.add_argument(\n",
    "        \"--model_name\",\n",
    "        type=str,\n",
    "        default='chatgpt',\n",
    "        help=\"num\",\n",
    "    )\n",
    "\n",
    "parser.add_argument(\n",
    "        \"--key\",\n",
    "        type=str,\n",
    "        default='xxx',\n",
    "        help=\"num\",\n",
    "    )\n",
    "\n",
    "args_string = '--prompt_type=cos --setting=shuffle_both --num=2 --model_name=chatgpt --key='\n",
    "args_list = args_string.split(' ')\n",
    "args = parser.parse_args(args_list)"
   ]
  },
  {
   "cell_type": "code",
   "execution_count": null,
   "metadata": {},
   "outputs": [],
   "source": [
    "apikey_filepath = '../.openai_key.txt'\n",
    "with open(apikey_filepath, 'r') as f:\n",
    "    key = f.read()"
   ]
  },
  {
   "cell_type": "code",
   "execution_count": 18,
   "metadata": {},
   "outputs": [],
   "source": [
    "prompt_type = args.prompt_type\n",
    "setting = args.setting\n",
    "if args.setting == 'noshuffle':\n",
    "   setting = 'shuffle_descpt'\n",
    "prompt = open('../data/demo/{}_demo_{}_2.txt'.format(prompt_type,args.setting)).read()\n",
    "#cot_prompt_1d = open('demo/davinci_cos_1d.txt').read()\n",
    "#base_prompt = open('demo/baseline_demo.txt').read()\n",
    "# Create instances for OpenAI and ChatOpenAI models\n",
    "if args.model_name == 'text-davinci-003':\n",
    "    openai_client = OpenAI(api_key=key, model_name=args.model_name)\n",
    "else:\n",
    "    # openai_client = ChatOpenAI(api_key=args.key, model_name=\"gpt-3.5-turbo\")\n",
    "    # model_name='gpt-3.5-turbo'\n",
    "    # model_name='gpt-4o-mini'\n",
    "    model_name='gpt-4o-2024-08-06'\n",
    "    openai_client = ChatOpenAI(api_key=key, model_name=model_name)"
   ]
  },
  {
   "cell_type": "code",
   "execution_count": 19,
   "metadata": {},
   "outputs": [
    {
     "name": "stdout",
     "output_type": "stream",
     "text": [
      "1\n",
      "2\n",
      "3\n",
      "4\n",
      "5\n",
      "6\n",
      "7\n",
      "8\n",
      "9\n",
      "10\n",
      "11\n",
      "12\n",
      "13\n",
      "14\n",
      "15\n",
      "16\n",
      "17\n",
      "18\n",
      "19\n",
      "20\n",
      "21\n",
      "22\n",
      "23\n",
      "24\n",
      "25\n",
      "26\n",
      "27\n",
      "28\n",
      "29\n",
      "30\n",
      "31\n",
      "32\n",
      "33\n",
      "34\n",
      "35\n",
      "36\n",
      "37\n",
      "38\n",
      "39\n",
      "40\n",
      "41\n",
      "42\n",
      "43\n",
      "44\n",
      "45\n",
      "46\n",
      "47\n",
      "48\n",
      "49\n",
      "50\n"
     ]
    }
   ],
   "source": [
    "# Load Data\n",
    "examples_data_dir = '../data/brick_2D_50'\n",
    "with open(os.path.join(examples_data_dir, 'data.json')) as f:\n",
    "    data = json.load(f)\n",
    "\n",
    "zeroshot_prompt = 'Lets think step by step, and provide the answer in the format of a sequence of bricks by a comma in the last sentence.'\n",
    "constraint_prompt = 'You only need to return the sequence of removed bricks in order from top to bottom, without any explanation. So the answer is:'\n",
    "# cos_1d_desc = (\"Using the symbolic method to convert text to symbols, B//A means A is on top of B. \"\n",
    "#                \"Then combine the relation together, then solve this question recursively and keep the last sentence \"\n",
    "#                \"as the format of 'so we get the result as (the sequence of names of bricks in order):\\n\\n\")\n",
    "\n",
    "res_list = []\n",
    "i = 0\n",
    "step = 0\n",
    "\n",
    "for item in data:\n",
    "    step += 1\n",
    "    print(step)\n",
    "\n",
    "    if args.model_name == 'text-davinci-003':\n",
    "        response = openai_client(prompt=zeroshot_prompt + '\\n\\n' + 'Question:' + '\\n' + item['data'] + 'Answer:\\n',\n",
    "                                    temperature=0,\n",
    "                                    max_tokens=2048,\n",
    "                                    top_p=1,\n",
    "                                    frequency_penalty=0,\n",
    "                                    presence_penalty=0)\n",
    "        res = response.content\n",
    "    else:\n",
    "        response = openai_client(messages=[\n",
    "            {\"role\": \"system\", \"content\": \"You are a helpful assistant.\"},\n",
    "            {\"role\": \"user\", \"content\": zeroshot_prompt + '\\n\\n' + 'Question:' + '\\n' + item['data'] + '\\nAnswer:\\n'}\n",
    "        ],\n",
    "        max_tokens=2048,\n",
    "        temperature=0)\n",
    "        res = response.content\n",
    "\n",
    "    dict_res = {'pred': res, 'label': item['label']}\n",
    "    res_list.append(dict_res)"
   ]
  },
  {
   "cell_type": "code",
   "execution_count": 20,
   "metadata": {},
   "outputs": [
    {
     "name": "stdout",
     "output_type": "stream",
     "text": [
      "Results saved to ../data/brick_2D_50/results_gpt-4o-2024-08-06.json\n"
     ]
    }
   ],
   "source": [
    "output_path = os.path.join(examples_data_dir, f'results_{model_name}.json')\n",
    "os.makedirs(os.path.dirname(output_path), exist_ok=True)\n",
    "\n",
    "with open(output_path, 'w') as outfile:\n",
    "    json.dump(res_list, outfile)\n",
    "\n",
    "print(f'Results saved to {output_path}')"
   ]
  },
  {
   "cell_type": "code",
   "execution_count": null,
   "metadata": {},
   "outputs": [],
   "source": []
  }
 ],
 "metadata": {
  "kernelspec": {
   "display_name": "venv_sigspatial",
   "language": "python",
   "name": "python3"
  },
  "language_info": {
   "codemirror_mode": {
    "name": "ipython",
    "version": 3
   },
   "file_extension": ".py",
   "mimetype": "text/x-python",
   "name": "python",
   "nbconvert_exporter": "python",
   "pygments_lexer": "ipython3",
   "version": "3.11.5"
  }
 },
 "nbformat": 4,
 "nbformat_minor": 2
}
